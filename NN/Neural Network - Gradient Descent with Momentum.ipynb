{
 "cells": [
  {
   "cell_type": "code",
   "execution_count": 1,
   "metadata": {},
   "outputs": [],
   "source": [
    "import numpy as np\n",
    "from sklearn.datasets import load_breast_cancer \n",
    "from sklearn.preprocessing import normalize\n",
    "from sklearn.model_selection import train_test_split\n",
    "from scipy.special import expit\n",
    "from sklearn.metrics import classification_report"
   ]
  },
  {
   "cell_type": "code",
   "execution_count": 2,
   "metadata": {},
   "outputs": [],
   "source": [
    "def sigmoid(x):\n",
    "    return expit(x)"
   ]
  },
  {
   "cell_type": "code",
   "execution_count": 3,
   "metadata": {},
   "outputs": [
    {
     "name": "stderr",
     "output_type": "stream",
     "text": [
      "/home/sacha/.local/lib/python3.6/site-packages/sklearn/model_selection/_split.py:2026: FutureWarning: From version 0.21, test_size will always complement train_size unless both are specified.\n",
      "  FutureWarning)\n"
     ]
    }
   ],
   "source": [
    "data = load_breast_cancer()\n",
    "X_train,X_test,Y_train,Y_test=train_test_split(data.data,data.target,train_size=.75, random_state=0)"
   ]
  },
  {
   "cell_type": "code",
   "execution_count": 4,
   "metadata": {},
   "outputs": [],
   "source": [
    "X = normalize(X_train).transpose()\n",
    "Y = Y_train.transpose()"
   ]
  },
  {
   "cell_type": "code",
   "execution_count": 149,
   "metadata": {},
   "outputs": [],
   "source": [
    "w = np.random.randn(30, 1)*np.sqrt(1/(30-1))\n",
    "b = np.array([0])\n",
    "alpha = 0.01\n",
    "beta = 0.9\n",
    "betatwo = 0.999\n",
    "eta = 10e-8\n",
    "vdW = 0\n",
    "vdB = 0\n",
    "sdW = 0\n",
    "sdB = 0\n",
    "batch_size = 512"
   ]
  },
  {
   "cell_type": "code",
   "execution_count": 150,
   "metadata": {},
   "outputs": [
    {
     "name": "stdout",
     "output_type": "stream",
     "text": [
      "Logloss: 129.86535624860448\n",
      "Logloss: 38.110681016328755\n",
      "Logloss: 32.376539012018874\n",
      "Logloss: 29.48868770298401\n",
      "Logloss: 27.181557359530576\n",
      "Logloss: 25.25348917299973\n"
     ]
    }
   ],
   "source": [
    "for i in range(1,30000):\n",
    "    for t in range(0, len(X), batch_size):\n",
    "                  \n",
    "        #batches\n",
    "        x_batch = X[:, t:t+batch_size]\n",
    "        y_batch = Y[t:t+batch_size]\n",
    "        \n",
    "        #forward\n",
    "        Z = np.dot(w.transpose(), x_batch) + b\n",
    "        A = sigmoid(Z)\n",
    "        L = np.sum(-(y_batch*np.log10(A)+(1-y_batch)*np.log10(1-A)))/len(A) # Binary Loss\n",
    "\n",
    "        #backward (derivatives)\n",
    "        dZ = (A-y_batch)\n",
    "\n",
    "        #W\n",
    "        dW = x_batch.dot(dZ.transpose())/len(dZ)\n",
    "        vdW = beta*vdW + (1-beta)*dW # Momentum Terms\n",
    "        vdWC = vdW/(1-beta**i) # Bias Correction\n",
    "        sdW = betatwo*sdW + (1-betatwo)*dW**2 #RMS terms\n",
    "        sdWC = sdW/(1-betatwo**i) # Bias Correction\n",
    "        w = w - alpha*vdWC/(np.sqrt(sdWC) + eta) # Adam\n",
    "\n",
    "        #B\n",
    "        dB = np.sum(dZ)/len(dZ)\n",
    "        vdB = beta*vdB + (1-beta)*dB # Momentum Terms\n",
    "        vdBC = vdB/(1-beta**i) # Bias Correction\n",
    "        sdB = betatwo*sdB + (1-betatwo)*dB**2 # RMS terms\n",
    "        sdBC = sdB/(1-betatwo**i) # Bias Correction\n",
    "        b = b - alpha*vdBC/(np.sqrt(sdBC) + eta) # Adam\n",
    "\n",
    "        if(i%5000==0 or i==1):\n",
    "            print('Logloss: {}'.format(L))"
   ]
  },
  {
   "cell_type": "code",
   "execution_count": 148,
   "metadata": {},
   "outputs": [
    {
     "name": "stdout",
     "output_type": "stream",
     "text": [
      "             precision    recall  f1-score   support\n",
      "\n",
      "          0       0.91      0.92      0.92        53\n",
      "          1       0.96      0.94      0.95        90\n",
      "\n",
      "avg / total       0.94      0.94      0.94       143\n",
      "\n"
     ]
    }
   ],
   "source": [
    "Z = np.dot(w.transpose(), normalize(X_test).transpose()) + b\n",
    "A = sigmoid(Z)\n",
    "A[A>0.5] = 1\n",
    "A[A<=0.5] = 0\n",
    "predictions = A\n",
    "print(classification_report(Y_test, predictions.reshape(143,)))"
   ]
  }
 ],
 "metadata": {
  "kernelspec": {
   "display_name": "Python 3",
   "language": "python",
   "name": "python3"
  },
  "language_info": {
   "codemirror_mode": {
    "name": "ipython",
    "version": 3
   },
   "file_extension": ".py",
   "mimetype": "text/x-python",
   "name": "python",
   "nbconvert_exporter": "python",
   "pygments_lexer": "ipython3",
   "version": "3.6.9"
  }
 },
 "nbformat": 4,
 "nbformat_minor": 2
}
