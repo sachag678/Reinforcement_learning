{
 "cells": [
  {
   "cell_type": "code",
   "execution_count": 243,
   "metadata": {},
   "outputs": [],
   "source": [
    "import numpy as np\n",
    "from sklearn.datasets import load_breast_cancer \n",
    "from sklearn.preprocessing import normalize\n",
    "from sklearn.model_selection import train_test_split\n",
    "from scipy.special import expit"
   ]
  },
  {
   "cell_type": "code",
   "execution_count": 244,
   "metadata": {},
   "outputs": [],
   "source": [
    "def sigmoid(x):\n",
    "    return expit(x)"
   ]
  },
  {
   "cell_type": "code",
   "execution_count": 233,
   "metadata": {},
   "outputs": [],
   "source": [
    "data = load_breast_cancer()\n",
    "X_train,X_test,Y_train,Y_test=train_test_split(data.data,data.target,train_size=.75, random_state=0)"
   ]
  },
  {
   "cell_type": "code",
   "execution_count": 341,
   "metadata": {},
   "outputs": [],
   "source": [
    "X = normalize(X_train).transpose()\n",
    "Y = Y_train.transpose()"
   ]
  },
  {
   "cell_type": "code",
   "execution_count": 399,
   "metadata": {},
   "outputs": [],
   "source": [
    "w = np.random.randn(30, 1)*np.sqrt(1/(30-1))\n",
    "b = np.array([0])\n",
    "alpha = 0.01\n",
    "beta = 0.9\n",
    "vdW = 0\n",
    "vdB = 0"
   ]
  },
  {
   "cell_type": "code",
   "execution_count": 400,
   "metadata": {},
   "outputs": [
    {
     "name": "stdout",
     "output_type": "stream",
     "text": [
      "Logloss: 126.9750314016947\n",
      "Logloss: 38.65010752856401\n",
      "Logloss: 36.394911383509616\n",
      "Logloss: 35.53942519510969\n",
      "Logloss: 35.02182354253607\n",
      "Logloss: 34.63954527554702\n"
     ]
    }
   ],
   "source": [
    "for i in range(30000):\n",
    "    Z = np.dot(w.transpose(), X) + b\n",
    "    A = sigmoid(Z)\n",
    "    dZ = (A-Y)\n",
    "    L = np.sum(-(Y*np.log10(A)+(1-Y)*np.log10(1-A)))/len(A)\n",
    "    dW = X.dot(dZ.transpose())/len(dZ)\n",
    "    vdW = beta*vdW + (1-beta)*dW # Momentum Terms\n",
    "    w = w - alpha*vdW\n",
    "    dB = np.sum(dZ)/len(dZ)\n",
    "    vdB = beta*vdB + (1-beta)*dB # Momentum Terms\n",
    "    b = b - alpha*vdB\n",
    "    \n",
    "    if(i%5000==0):\n",
    "        print('Logloss: {}'.format(L))"
   ]
  },
  {
   "cell_type": "code",
   "execution_count": 401,
   "metadata": {},
   "outputs": [],
   "source": [
    "Z = np.dot(w.transpose(), normalize(X_test).transpose()) + b\n",
    "A = sigmoid(Z)\n",
    "A[A>0.5] = 1\n",
    "A[A<=0.5] = 0\n",
    "predictions = A"
   ]
  },
  {
   "cell_type": "code",
   "execution_count": 402,
   "metadata": {},
   "outputs": [
    {
     "name": "stdout",
     "output_type": "stream",
     "text": [
      "              precision    recall  f1-score   support\n",
      "\n",
      "           0       0.94      0.89      0.91        53\n",
      "           1       0.94      0.97      0.95        90\n",
      "\n",
      "    accuracy                           0.94       143\n",
      "   macro avg       0.94      0.93      0.93       143\n",
      "weighted avg       0.94      0.94      0.94       143\n",
      "\n"
     ]
    }
   ],
   "source": [
    "from sklearn.metrics import classification_report\n",
    "print(classification_report(Y_test, predictions.reshape(143,)))"
   ]
  },
  {
   "cell_type": "code",
   "execution_count": null,
   "metadata": {},
   "outputs": [],
   "source": []
  }
 ],
 "metadata": {
  "kernelspec": {
   "display_name": "Python 3",
   "language": "python",
   "name": "python3"
  },
  "language_info": {
   "codemirror_mode": {
    "name": "ipython",
    "version": 3
   },
   "file_extension": ".py",
   "mimetype": "text/x-python",
   "name": "python",
   "nbconvert_exporter": "python",
   "pygments_lexer": "ipython3",
   "version": "3.6.9"
  }
 },
 "nbformat": 4,
 "nbformat_minor": 2
}
